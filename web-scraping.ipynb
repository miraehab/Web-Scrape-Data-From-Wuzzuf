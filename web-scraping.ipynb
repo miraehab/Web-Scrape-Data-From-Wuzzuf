{
 "cells": [
  {
   "cell_type": "markdown",
   "metadata": {},
   "source": [
    "<h1>Web-scrape Jobs details from Wuzzuf</h1>"
   ]
  },
  {
   "cell_type": "code",
   "execution_count": 1,
   "metadata": {},
   "outputs": [],
   "source": [
    "import pandas as pd\n",
    "import requests\n",
    "from bs4 import BeautifulSoup\n",
    "import urllib.parse"
   ]
  },
  {
   "cell_type": "markdown",
   "metadata": {},
   "source": [
    "<h3>To Format the url based on the query and the page number:</h3>"
   ]
  },
  {
   "cell_type": "code",
   "execution_count": 2,
   "metadata": {},
   "outputs": [],
   "source": [
    "def generate_url(query, page_number):\n",
    "    params = {'a': 'hpd', 'q': query, 'start': page_number}\n",
    "    return \"https://wuzzuf.net/search/jobs/?{}\".format(urllib.parse.urlencode(params))"
   ]
  },
  {
   "cell_type": "markdown",
   "metadata": {},
   "source": [
    "<h3>Extract the country from the location array: </h3>"
   ]
  },
  {
   "cell_type": "code",
   "execution_count": 3,
   "metadata": {},
   "outputs": [],
   "source": [
    "def extract_country(location, country):\n",
    "    for i in range(0, len(location)):\n",
    "        # extrat the country from the location\n",
    "        coun = location[i].split(',')[-1]\n",
    "        country.append(coun)\n",
    "        # to remove the country from the location\n",
    "        location[i] = location[i].partition(coun)[0]\n",
    "        # to remove the \",\" at the last of the location\n",
    "        location[i] = location[i][:len(location[i])-1]"
   ]
  },
  {
   "cell_type": "markdown",
   "metadata": {},
   "source": [
    "<h3>To clean the data: </h3>"
   ]
  },
  {
   "cell_type": "code",
   "execution_count": 4,
   "metadata": {},
   "outputs": [],
   "source": [
    "def clean_data(data):\n",
    "    data.strip()\n",
    "    start = 0\n",
    "    end = len(data) -1 \n",
    "    while not data[start].isalpha():\n",
    "        start += 1\n",
    "    while not data[end].isalpha():\n",
    "        end -= 1\n",
    "    if len(data[start: end+1]) == 0:\n",
    "        return \"N/A\"\n",
    "    return data[start: end+1]"
   ]
  },
  {
   "cell_type": "markdown",
   "metadata": {},
   "source": [
    "<h3>The Web-Srape function:</h3>"
   ]
  },
  {
   "cell_type": "code",
   "execution_count": 5,
   "metadata": {},
   "outputs": [],
   "source": [
    "def web_scrap(query):\n",
    "    job_title = [] # css-o171kl\n",
    "    company = [] # css-17s97q8\n",
    "    location = [] # css-5wys0k\n",
    "    type_of_employment = [] # css-n2jc4m\n",
    "    description = [] # css-o171kl\n",
    "    country = []\n",
    "    page = 0\n",
    "    while True:\n",
    "        response = requests.get(generate_url(query, page))\n",
    "\n",
    "        soup = BeautifulSoup(response.content, \"html5lib\")\n",
    "\n",
    "        #Store all the jobs in the jobs array\n",
    "        jobs = []\n",
    "        for s in soup.find_all(class_=\"css-1gatmva e1v1l3u10\"):\n",
    "            jobs += s\n",
    "\n",
    "        if len(jobs) == 0:\n",
    "            break\n",
    "\n",
    "        for i in range(1, len(jobs)):\n",
    "            # find the job title\n",
    "            title_desc = jobs[i].find_all(class_=\"css-o171kl\")\n",
    "\n",
    "            #find the description\n",
    "            desc = \"\"\n",
    "            for j in range(0, len(title_desc)):\n",
    "                # the first one is the job title.\n",
    "                if j == 0: \n",
    "                    job_title.append(clean_data(title_desc[j].text))\n",
    "                # if this is the last description for the job don't pt \",\"\n",
    "                elif j == len(title_desc)-1:\n",
    "                    desc += clean_data(title_desc[j].text)\n",
    "                # to put the description and \",\"\n",
    "                else:\n",
    "                    desc += clean_data(title_desc[j].text)\n",
    "                    desc += \", \"\n",
    "\n",
    "            # append the description\n",
    "            description.append(clean_data(desc))\n",
    "\n",
    "            # find all the details\n",
    "            comp = jobs[i].find_all(class_=\"css-17s97q8\")\n",
    "            loc = jobs[i].find_all(class_=\"css-5wys0k\")\n",
    "            type_emp = jobs[i].find_all(class_=\"css-n2jc4m\")\n",
    "\n",
    "            # find all employment types\n",
    "            all_types = \"\"\n",
    "            for j in range(0, len(type_emp)):\n",
    "                if j == len(type_emp)-1:\n",
    "                    all_types += type_emp[j].span.text\n",
    "                else:\n",
    "                    all_types += type_emp[j].span.text\n",
    "                    all_types += \", \"\n",
    "\n",
    "            # append all the details\n",
    "            company.append(clean_data(comp[0].text))\n",
    "            location.append(clean_data(loc[0].text))\n",
    "            type_of_employment.append(clean_data(all_types))\n",
    "\n",
    "        page += 1\n",
    "    extract_country(location, country)\n",
    "    dic = {\n",
    "        \"Job Title\": job_title,\n",
    "        \"Company Name: \": company,\n",
    "        \"Location\": location,\n",
    "        \"Country\":country,\n",
    "        \"Employment Type\":type_of_employment,\n",
    "        \"Description\":description\n",
    "    }\n",
    "    return dic"
   ]
  },
  {
   "cell_type": "code",
   "execution_count": 6,
   "metadata": {},
   "outputs": [],
   "source": [
    "#examples of jobs\n",
    "dic_machine_learning = web_scrap(\"machine learning\")\n",
    "dic_data_analysis = web_scrap(\"data analysis\")\n",
    "dic_software_testing = web_scrap(\"software testing\")"
   ]
  },
  {
   "cell_type": "code",
   "execution_count": 7,
   "metadata": {},
   "outputs": [
    {
     "data": {
      "text/html": [
       "<div>\n",
       "<style scoped>\n",
       "    .dataframe tbody tr th:only-of-type {\n",
       "        vertical-align: middle;\n",
       "    }\n",
       "\n",
       "    .dataframe tbody tr th {\n",
       "        vertical-align: top;\n",
       "    }\n",
       "\n",
       "    .dataframe thead th {\n",
       "        text-align: right;\n",
       "    }\n",
       "</style>\n",
       "<table border=\"1\" class=\"dataframe\">\n",
       "  <thead>\n",
       "    <tr style=\"text-align: right;\">\n",
       "      <th></th>\n",
       "      <th>Job Title</th>\n",
       "      <th>Company Name:</th>\n",
       "      <th>Location</th>\n",
       "      <th>Country</th>\n",
       "      <th>Employment Type</th>\n",
       "      <th>Description</th>\n",
       "    </tr>\n",
       "  </thead>\n",
       "  <tbody>\n",
       "    <tr>\n",
       "      <th>0</th>\n",
       "      <td>Senior/Mid Senior Deep Learning Engineer</td>\n",
       "      <td>Confidential</td>\n",
       "      <td>Mokattam, Cairo</td>\n",
       "      <td>Egypt</td>\n",
       "      <td>Full Time</td>\n",
       "      <td>Experienced, IT/Software Development, Engineer...</td>\n",
       "    </tr>\n",
       "    <tr>\n",
       "      <th>1</th>\n",
       "      <td>ML Engineer - Recommendation System</td>\n",
       "      <td>TensorGraph</td>\n",
       "      <td>Maadi, Cairo</td>\n",
       "      <td>Egypt</td>\n",
       "      <td>Part Time, Freelance / Project</td>\n",
       "      <td>Entry Level, IT/Software Development, Engineer...</td>\n",
       "    </tr>\n",
       "    <tr>\n",
       "      <th>2</th>\n",
       "      <td>Internship - Graduates</td>\n",
       "      <td>Trufla</td>\n",
       "      <td>Heliopolis, Cairo</td>\n",
       "      <td>Egypt</td>\n",
       "      <td>Internship</td>\n",
       "      <td>Entry Level, IT/Software Development, Engineer...</td>\n",
       "    </tr>\n",
       "    <tr>\n",
       "      <th>3</th>\n",
       "      <td>Data Scientist</td>\n",
       "      <td>Confidential</td>\n",
       "      <td>Riyadh</td>\n",
       "      <td>Saudi Arabia</td>\n",
       "      <td>Full Time</td>\n",
       "      <td>Experienced, IT/Software Development, Analyst/...</td>\n",
       "    </tr>\n",
       "    <tr>\n",
       "      <th>4</th>\n",
       "      <td>Senior Data Scientist</td>\n",
       "      <td>BBI-Consultancy</td>\n",
       "      <td>Nasr City, Cairo</td>\n",
       "      <td>Egypt</td>\n",
       "      <td>Full Time</td>\n",
       "      <td>Experienced, IT/Software Development, Analyst/...</td>\n",
       "    </tr>\n",
       "  </tbody>\n",
       "</table>\n",
       "</div>"
      ],
      "text/plain": [
       "                                  Job Title   Company Name:   \\\n",
       "0  Senior/Mid Senior Deep Learning Engineer     Confidential   \n",
       "1       ML Engineer - Recommendation System      TensorGraph   \n",
       "2                    Internship - Graduates           Trufla   \n",
       "3                            Data Scientist     Confidential   \n",
       "4                     Senior Data Scientist  BBI-Consultancy   \n",
       "\n",
       "            Location        Country                 Employment Type  \\\n",
       "0    Mokattam, Cairo          Egypt                       Full Time   \n",
       "1       Maadi, Cairo          Egypt  Part Time, Freelance / Project   \n",
       "2  Heliopolis, Cairo          Egypt                      Internship   \n",
       "3             Riyadh   Saudi Arabia                       Full Time   \n",
       "4   Nasr City, Cairo          Egypt                       Full Time   \n",
       "\n",
       "                                         Description  \n",
       "0  Experienced, IT/Software Development, Engineer...  \n",
       "1  Entry Level, IT/Software Development, Engineer...  \n",
       "2  Entry Level, IT/Software Development, Engineer...  \n",
       "3  Experienced, IT/Software Development, Analyst/...  \n",
       "4  Experienced, IT/Software Development, Analyst/...  "
      ]
     },
     "execution_count": 7,
     "metadata": {},
     "output_type": "execute_result"
    }
   ],
   "source": [
    "df_machine_learning = pd.DataFrame(dic_machine_learning)\n",
    "df_machine_learning.head()"
   ]
  },
  {
   "cell_type": "code",
   "execution_count": 8,
   "metadata": {},
   "outputs": [
    {
     "data": {
      "text/plain": [
       "(41, 6)"
      ]
     },
     "execution_count": 8,
     "metadata": {},
     "output_type": "execute_result"
    }
   ],
   "source": [
    "df_machine_learning.shape"
   ]
  },
  {
   "cell_type": "code",
   "execution_count": 9,
   "metadata": {},
   "outputs": [
    {
     "data": {
      "text/html": [
       "<div>\n",
       "<style scoped>\n",
       "    .dataframe tbody tr th:only-of-type {\n",
       "        vertical-align: middle;\n",
       "    }\n",
       "\n",
       "    .dataframe tbody tr th {\n",
       "        vertical-align: top;\n",
       "    }\n",
       "\n",
       "    .dataframe thead th {\n",
       "        text-align: right;\n",
       "    }\n",
       "</style>\n",
       "<table border=\"1\" class=\"dataframe\">\n",
       "  <thead>\n",
       "    <tr style=\"text-align: right;\">\n",
       "      <th></th>\n",
       "      <th>Job Title</th>\n",
       "      <th>Company Name:</th>\n",
       "      <th>Location</th>\n",
       "      <th>Country</th>\n",
       "      <th>Employment Type</th>\n",
       "      <th>Description</th>\n",
       "    </tr>\n",
       "  </thead>\n",
       "  <tbody>\n",
       "    <tr>\n",
       "      <th>0</th>\n",
       "      <td>Data Analysis Instructor (Excel - Power BI</td>\n",
       "      <td>EpsilonAI</td>\n",
       "      <td>Nasr City, Cairo</td>\n",
       "      <td>Egypt</td>\n",
       "      <td>Full Time, Part Time, Freelance / Project</td>\n",
       "      <td>Entry Level, IT/Software Development, Analyst/...</td>\n",
       "    </tr>\n",
       "    <tr>\n",
       "      <th>1</th>\n",
       "      <td>Senior Data Analyst - Cairo</td>\n",
       "      <td>Confidential</td>\n",
       "      <td>Cairo</td>\n",
       "      <td>Egypt</td>\n",
       "      <td>Full Time</td>\n",
       "      <td>Experienced, IT/Software Development, Analyst/...</td>\n",
       "    </tr>\n",
       "    <tr>\n",
       "      <th>2</th>\n",
       "      <td>Data Analyst</td>\n",
       "      <td>Hands of Hope Physical Therapy &amp; Wellness</td>\n",
       "      <td>Maadi, Cairo</td>\n",
       "      <td>Egypt</td>\n",
       "      <td>Full Time</td>\n",
       "      <td>Experienced, IT/Software Development, Analyst/...</td>\n",
       "    </tr>\n",
       "    <tr>\n",
       "      <th>3</th>\n",
       "      <td>Data Analyst</td>\n",
       "      <td>Gila Electric</td>\n",
       "      <td>New Cairo, Cairo</td>\n",
       "      <td>Egypt</td>\n",
       "      <td>Full Time</td>\n",
       "      <td>Experienced, Accounting/Finance, IT/Software D...</td>\n",
       "    </tr>\n",
       "    <tr>\n",
       "      <th>4</th>\n",
       "      <td>Senior Data Scientist</td>\n",
       "      <td>Fixed Solutions</td>\n",
       "      <td>Sheraton, Cairo</td>\n",
       "      <td>Egypt</td>\n",
       "      <td>Full Time</td>\n",
       "      <td>Experienced, IT/Software Development, Engineer...</td>\n",
       "    </tr>\n",
       "  </tbody>\n",
       "</table>\n",
       "</div>"
      ],
      "text/plain": [
       "                                    Job Title  \\\n",
       "0  Data Analysis Instructor (Excel - Power BI   \n",
       "1                 Senior Data Analyst - Cairo   \n",
       "2                                Data Analyst   \n",
       "3                                Data Analyst   \n",
       "4                       Senior Data Scientist   \n",
       "\n",
       "                              Company Name:           Location Country  \\\n",
       "0                                  EpsilonAI  Nasr City, Cairo   Egypt   \n",
       "1                               Confidential             Cairo   Egypt   \n",
       "2  Hands of Hope Physical Therapy & Wellness      Maadi, Cairo   Egypt   \n",
       "3                              Gila Electric  New Cairo, Cairo   Egypt   \n",
       "4                            Fixed Solutions   Sheraton, Cairo   Egypt   \n",
       "\n",
       "                             Employment Type  \\\n",
       "0  Full Time, Part Time, Freelance / Project   \n",
       "1                                  Full Time   \n",
       "2                                  Full Time   \n",
       "3                                  Full Time   \n",
       "4                                  Full Time   \n",
       "\n",
       "                                         Description  \n",
       "0  Entry Level, IT/Software Development, Analyst/...  \n",
       "1  Experienced, IT/Software Development, Analyst/...  \n",
       "2  Experienced, IT/Software Development, Analyst/...  \n",
       "3  Experienced, Accounting/Finance, IT/Software D...  \n",
       "4  Experienced, IT/Software Development, Engineer...  "
      ]
     },
     "execution_count": 9,
     "metadata": {},
     "output_type": "execute_result"
    }
   ],
   "source": [
    "df_data_analysis = pd.DataFrame(dic_data_analysis)\n",
    "df_data_analysis.head()"
   ]
  },
  {
   "cell_type": "code",
   "execution_count": 10,
   "metadata": {},
   "outputs": [
    {
     "data": {
      "text/plain": [
       "(691, 6)"
      ]
     },
     "execution_count": 10,
     "metadata": {},
     "output_type": "execute_result"
    }
   ],
   "source": [
    "df_data_analysis.shape"
   ]
  },
  {
   "cell_type": "code",
   "execution_count": 11,
   "metadata": {},
   "outputs": [
    {
     "data": {
      "text/html": [
       "<div>\n",
       "<style scoped>\n",
       "    .dataframe tbody tr th:only-of-type {\n",
       "        vertical-align: middle;\n",
       "    }\n",
       "\n",
       "    .dataframe tbody tr th {\n",
       "        vertical-align: top;\n",
       "    }\n",
       "\n",
       "    .dataframe thead th {\n",
       "        text-align: right;\n",
       "    }\n",
       "</style>\n",
       "<table border=\"1\" class=\"dataframe\">\n",
       "  <thead>\n",
       "    <tr style=\"text-align: right;\">\n",
       "      <th></th>\n",
       "      <th>Job Title</th>\n",
       "      <th>Company Name:</th>\n",
       "      <th>Location</th>\n",
       "      <th>Country</th>\n",
       "      <th>Employment Type</th>\n",
       "      <th>Description</th>\n",
       "    </tr>\n",
       "  </thead>\n",
       "  <tbody>\n",
       "    <tr>\n",
       "      <th>0</th>\n",
       "      <td>Software Testing Engineer</td>\n",
       "      <td>realme</td>\n",
       "      <td>New Cairo, Cairo</td>\n",
       "      <td>Egypt</td>\n",
       "      <td>Full Time</td>\n",
       "      <td>Entry Level, IT/Software Development, Quality,...</td>\n",
       "    </tr>\n",
       "    <tr>\n",
       "      <th>1</th>\n",
       "      <td>Senior Software Test Engineer</td>\n",
       "      <td>Glamera</td>\n",
       "      <td>Nasr City, Cairo</td>\n",
       "      <td>Egypt</td>\n",
       "      <td>Full Time</td>\n",
       "      <td>Experienced, IT/Software Development, Quality,...</td>\n",
       "    </tr>\n",
       "    <tr>\n",
       "      <th>2</th>\n",
       "      <td>Software Testing Engineer</td>\n",
       "      <td>DMS</td>\n",
       "      <td>Heliopolis, Cairo</td>\n",
       "      <td>Egypt</td>\n",
       "      <td>Full Time</td>\n",
       "      <td>Entry Level, IT/Software Development, Quality,...</td>\n",
       "    </tr>\n",
       "    <tr>\n",
       "      <th>3</th>\n",
       "      <td>Trevipay| Senior Software Testing Engineer - E...</td>\n",
       "      <td>Kalasko</td>\n",
       "      <td>Hurghada, Red Sea</td>\n",
       "      <td>Egypt</td>\n",
       "      <td>Full Time</td>\n",
       "      <td>Experienced, IT/Software Development, Quality,...</td>\n",
       "    </tr>\n",
       "    <tr>\n",
       "      <th>4</th>\n",
       "      <td>Software Quality Testing Engineer</td>\n",
       "      <td>Anspire Agency</td>\n",
       "      <td>New Cairo, Cairo</td>\n",
       "      <td>Egypt</td>\n",
       "      <td>Full Time</td>\n",
       "      <td>Entry Level, IT/Software Development, Quality,...</td>\n",
       "    </tr>\n",
       "  </tbody>\n",
       "</table>\n",
       "</div>"
      ],
      "text/plain": [
       "                                           Job Title  Company Name:   \\\n",
       "0                          Software Testing Engineer          realme   \n",
       "1                      Senior Software Test Engineer         Glamera   \n",
       "2                          Software Testing Engineer             DMS   \n",
       "3  Trevipay| Senior Software Testing Engineer - E...         Kalasko   \n",
       "4                  Software Quality Testing Engineer  Anspire Agency   \n",
       "\n",
       "            Location Country Employment Type  \\\n",
       "0   New Cairo, Cairo   Egypt       Full Time   \n",
       "1   Nasr City, Cairo   Egypt       Full Time   \n",
       "2  Heliopolis, Cairo   Egypt       Full Time   \n",
       "3  Hurghada, Red Sea   Egypt       Full Time   \n",
       "4   New Cairo, Cairo   Egypt       Full Time   \n",
       "\n",
       "                                         Description  \n",
       "0  Entry Level, IT/Software Development, Quality,...  \n",
       "1  Experienced, IT/Software Development, Quality,...  \n",
       "2  Entry Level, IT/Software Development, Quality,...  \n",
       "3  Experienced, IT/Software Development, Quality,...  \n",
       "4  Entry Level, IT/Software Development, Quality,...  "
      ]
     },
     "execution_count": 11,
     "metadata": {},
     "output_type": "execute_result"
    }
   ],
   "source": [
    "df_software_testing = pd.DataFrame(dic_software_testing)\n",
    "df_software_testing.head()"
   ]
  },
  {
   "cell_type": "code",
   "execution_count": 12,
   "metadata": {},
   "outputs": [
    {
     "data": {
      "text/plain": [
       "(898, 6)"
      ]
     },
     "execution_count": 12,
     "metadata": {},
     "output_type": "execute_result"
    }
   ],
   "source": [
    "df_software_testing.shape"
   ]
  }
 ],
 "metadata": {
  "kernelspec": {
   "display_name": "Python 3.9.7 64-bit",
   "language": "python",
   "name": "python3"
  },
  "language_info": {
   "codemirror_mode": {
    "name": "ipython",
    "version": 3
   },
   "file_extension": ".py",
   "mimetype": "text/x-python",
   "name": "python",
   "nbconvert_exporter": "python",
   "pygments_lexer": "ipython3",
   "version": "3.9.7"
  },
  "orig_nbformat": 4,
  "vscode": {
   "interpreter": {
    "hash": "5179d32cf6ec497baf3f8a3ef987cc77c5d2dc691fdde20a56316522f61a7323"
   }
  }
 },
 "nbformat": 4,
 "nbformat_minor": 2
}
